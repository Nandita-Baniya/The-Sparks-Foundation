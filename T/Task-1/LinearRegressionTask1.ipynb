{
  "nbformat": 4,
  "nbformat_minor": 0,
  "metadata": {
    "colab": {
      "name": " LinearRegressionTask1.ipynb",
      "provenance": [],
      "collapsed_sections": []
    },
    "kernelspec": {
      "name": "python3",
      "display_name": "Python 3"
    },
    "language_info": {
      "name": "python"
    }
  },
  "cells": [
    {
      "cell_type": "markdown",
      "metadata": {
        "id": "_403UUS0_Z6G"
      },
      "source": [
        "# **The Sparks Foundation**\n",
        "Data Science & Business analytics\n",
        "\n",
        "**By - Nandita Baniya**\n",
        "\n",
        "**Task 1 :** Predict the percentage of an student based on the no. of study hours.\n"
      ]
    },
    {
      "cell_type": "code",
      "metadata": {
        "id": "VYQ1yUaP5-_B"
      },
      "source": [
        "import pandas as pd\n",
        "import matplotlib.pyplot as plt"
      ],
      "execution_count": 1,
      "outputs": []
    },
    {
      "cell_type": "code",
      "metadata": {
        "id": "vK6VVY9K6EYX",
        "colab": {
          "base_uri": "https://localhost:8080/"
        },
        "outputId": "c0c05c53-9adc-49c1-f78b-406768d7b7c2"
      },
      "source": [
        "df = pd.read_csv(\"https://raw.githubusercontent.com/AdiPersonalWorks/Random/master/student_scores%20-%20student_scores.csv\")\n",
        "print(\"Data loaded\")\n",
        "df.head(10)\n",
        "df.shape"
      ],
      "execution_count": 2,
      "outputs": [
        {
          "output_type": "stream",
          "text": [
            "Data loaded\n"
          ],
          "name": "stdout"
        },
        {
          "output_type": "execute_result",
          "data": {
            "text/plain": [
              "(25, 2)"
            ]
          },
          "metadata": {
            "tags": []
          },
          "execution_count": 2
        }
      ]
    },
    {
      "cell_type": "code",
      "metadata": {
        "id": "eboRnsUA6LhX",
        "colab": {
          "base_uri": "https://localhost:8080/"
        },
        "outputId": "4b380dcf-2a80-40bc-df95-866649b6dfda"
      },
      "source": [
        "df.info()"
      ],
      "execution_count": 3,
      "outputs": [
        {
          "output_type": "stream",
          "text": [
            "<class 'pandas.core.frame.DataFrame'>\n",
            "RangeIndex: 25 entries, 0 to 24\n",
            "Data columns (total 2 columns):\n",
            " #   Column  Non-Null Count  Dtype  \n",
            "---  ------  --------------  -----  \n",
            " 0   Hours   25 non-null     float64\n",
            " 1   Scores  25 non-null     int64  \n",
            "dtypes: float64(1), int64(1)\n",
            "memory usage: 528.0 bytes\n"
          ],
          "name": "stdout"
        }
      ]
    },
    {
      "cell_type": "code",
      "metadata": {
        "id": "Y_Zm6Bh36Oui",
        "colab": {
          "base_uri": "https://localhost:8080/",
          "height": 284
        },
        "outputId": "3b05a482-287d-4635-93f9-9582b0969a09"
      },
      "source": [
        "df.describe()"
      ],
      "execution_count": 4,
      "outputs": [
        {
          "output_type": "execute_result",
          "data": {
            "text/html": [
              "<div>\n",
              "<style scoped>\n",
              "    .dataframe tbody tr th:only-of-type {\n",
              "        vertical-align: middle;\n",
              "    }\n",
              "\n",
              "    .dataframe tbody tr th {\n",
              "        vertical-align: top;\n",
              "    }\n",
              "\n",
              "    .dataframe thead th {\n",
              "        text-align: right;\n",
              "    }\n",
              "</style>\n",
              "<table border=\"1\" class=\"dataframe\">\n",
              "  <thead>\n",
              "    <tr style=\"text-align: right;\">\n",
              "      <th></th>\n",
              "      <th>Hours</th>\n",
              "      <th>Scores</th>\n",
              "    </tr>\n",
              "  </thead>\n",
              "  <tbody>\n",
              "    <tr>\n",
              "      <th>count</th>\n",
              "      <td>25.000000</td>\n",
              "      <td>25.000000</td>\n",
              "    </tr>\n",
              "    <tr>\n",
              "      <th>mean</th>\n",
              "      <td>5.012000</td>\n",
              "      <td>51.480000</td>\n",
              "    </tr>\n",
              "    <tr>\n",
              "      <th>std</th>\n",
              "      <td>2.525094</td>\n",
              "      <td>25.286887</td>\n",
              "    </tr>\n",
              "    <tr>\n",
              "      <th>min</th>\n",
              "      <td>1.100000</td>\n",
              "      <td>17.000000</td>\n",
              "    </tr>\n",
              "    <tr>\n",
              "      <th>25%</th>\n",
              "      <td>2.700000</td>\n",
              "      <td>30.000000</td>\n",
              "    </tr>\n",
              "    <tr>\n",
              "      <th>50%</th>\n",
              "      <td>4.800000</td>\n",
              "      <td>47.000000</td>\n",
              "    </tr>\n",
              "    <tr>\n",
              "      <th>75%</th>\n",
              "      <td>7.400000</td>\n",
              "      <td>75.000000</td>\n",
              "    </tr>\n",
              "    <tr>\n",
              "      <th>max</th>\n",
              "      <td>9.200000</td>\n",
              "      <td>95.000000</td>\n",
              "    </tr>\n",
              "  </tbody>\n",
              "</table>\n",
              "</div>"
            ],
            "text/plain": [
              "           Hours     Scores\n",
              "count  25.000000  25.000000\n",
              "mean    5.012000  51.480000\n",
              "std     2.525094  25.286887\n",
              "min     1.100000  17.000000\n",
              "25%     2.700000  30.000000\n",
              "50%     4.800000  47.000000\n",
              "75%     7.400000  75.000000\n",
              "max     9.200000  95.000000"
            ]
          },
          "metadata": {
            "tags": []
          },
          "execution_count": 4
        }
      ]
    },
    {
      "cell_type": "markdown",
      "metadata": {
        "id": "RVZiSuRa6b2u"
      },
      "source": [
        "Visualizing the relation between the dependent variable and independent variable"
      ]
    },
    {
      "cell_type": "code",
      "metadata": {
        "id": "d9qCJIB-6S0C",
        "colab": {
          "base_uri": "https://localhost:8080/",
          "height": 295
        },
        "outputId": "dac8fa73-0b15-4271-feec-ed169f1018a9"
      },
      "source": [
        "plt.scatter(x=df['Hours'],y=df['Scores'])\n",
        "plt.xlabel(\"Number of hours\")\n",
        "plt.ylabel(\"Scores\")\n",
        "plt.title(\"Hours vs Scores\")\n",
        "plt.show() "
      ],
      "execution_count": 5,
      "outputs": [
        {
          "output_type": "display_data",
          "data": {
            "image/png": "[encoded data removed]",
            "text/plain": [
              "<Figure size 432x288 with 1 Axes>"
            ]
          },
          "metadata": {
            "tags": [],
            "needs_background": "light"
          }
        }
      ]
    },
    {
      "cell_type": "markdown",
      "metadata": {
        "id": "j4vAzOVx6nfv"
      },
      "source": [
        "Data is splitted in two parts : Training and Testing"
      ]
    },
    {
      "cell_type": "code",
      "metadata": {
        "id": "6kYTv8ex6gVx",
        "colab": {
          "base_uri": "https://localhost:8080/"
        },
        "outputId": "adaaaf57-9c21-4654-ee2c-5466e70fd0ef"
      },
      "source": [
        "# splitting X and y into training and testing sets\n",
        "from sklearn.model_selection import train_test_split\n",
        "X_train,X_test,Y_train,Y_test = train_test_split(df['Hours'].values.reshape(-1,1),df['Scores'],test_size=0.3,random_state=200)\n",
        "X_train.shape,Y_train.shape,X_test.shape,Y_test.shape"
      ],
      "execution_count": 6,
      "outputs": [
        {
          "output_type": "execute_result",
          "data": {
            "text/plain": [
              "((17, 1), (17,), (8, 1), (8,))"
            ]
          },
          "metadata": {
            "tags": []
          },
          "execution_count": 6
        }
      ]
    },
    {
      "cell_type": "markdown",
      "metadata": {
        "id": "vBg7Rbau6xQI"
      },
      "source": [
        "Training the data"
      ]
    },
    {
      "cell_type": "code",
      "metadata": {
        "id": "snJX72ay6s3Y",
        "colab": {
          "base_uri": "https://localhost:8080/"
        },
        "outputId": "9553220c-f74f-42bb-f00d-6d3aa1f6df88"
      },
      "source": [
        "from sklearn.linear_model import LinearRegression\n",
        "#create linear regression object\n",
        "reg = LinearRegression()\n",
        "# train the model using the training sets\n",
        "reg.fit(X_train,Y_train)\n",
        "print(\"Training complete!!\")"
      ],
      "execution_count": 7,
      "outputs": [
        {
          "output_type": "stream",
          "text": [
            "Training complete!!\n"
          ],
          "name": "stdout"
        }
      ]
    },
    {
      "cell_type": "markdown",
      "metadata": {
        "id": "Rbzin8dL6_ok"
      },
      "source": [
        "Plotting the regression line"
      ]
    },
    {
      "cell_type": "code",
      "metadata": {
        "id": "9f3TOCID61H-"
      },
      "source": [
        "# Building the line\n",
        "slope = reg.coef_\n",
        "intercept = reg.intercept_\n",
        "line = slope*df['Hours'].values + intercept"
      ],
      "execution_count": 8,
      "outputs": []
    },
    {
      "cell_type": "code",
      "metadata": {
        "id": "NIb7YjiS7DiL",
        "colab": {
          "base_uri": "https://localhost:8080/",
          "height": 265
        },
        "outputId": "dc3743a0-2dac-4c2b-8d6d-5bcd3dab807f"
      },
      "source": [
        "#Plot line\n",
        "plt.scatter(df['Hours'],df['Scores'])\n",
        "plt.plot(df['Hours'], line,color='red')\n",
        "plt.show()"
      ],
      "execution_count": 9,
      "outputs": [
        {
          "output_type": "display_data",
          "data": {
            "image/png": "[encoded data removed]",
            "text/plain": [
              "<Figure size 432x288 with 1 Axes>"
            ]
          },
          "metadata": {
            "tags": [],
            "needs_background": "light"
          }
        }
      ]
    },
    {
      "cell_type": "markdown",
      "metadata": {
        "id": "bRF-dXwU7KJ2"
      },
      "source": [
        "Predict values"
      ]
    },
    {
      "cell_type": "code",
      "metadata": {
        "id": "CSv8pAN57Nze",
        "colab": {
          "base_uri": "https://localhost:8080/"
        },
        "outputId": "46616098-f36b-4587-dd97-77b6df62f841"
      },
      "source": [
        "pred = reg.predict(X_test)\n",
        "pred"
      ],
      "execution_count": 10,
      "outputs": [
        {
          "output_type": "execute_result",
          "data": {
            "text/plain": [
              "array([74.8476989 , 40.29506065, 34.53628761, 22.05894602, 70.04872137,\n",
              "       62.37035731, 27.81771906, 18.219764  ])"
            ]
          },
          "metadata": {
            "tags": []
          },
          "execution_count": 10
        }
      ]
    },
    {
      "cell_type": "markdown",
      "metadata": {
        "id": "fslSdIFd7VlS"
      },
      "source": [
        "Compare actual and predicted values"
      ]
    },
    {
      "cell_type": "code",
      "metadata": {
        "id": "O7JCS5IW7aLV",
        "colab": {
          "base_uri": "https://localhost:8080/",
          "height": 284
        },
        "outputId": "07a02f81-c97e-4b9a-9780-86c53dd7f11d"
      },
      "source": [
        "pred_compare= pd.DataFrame({'Actual_values': Y_test, 'Predicted_values': pred})\n",
        "pred_compare   "
      ],
      "execution_count": 11,
      "outputs": [
        {
          "output_type": "execute_result",
          "data": {
            "text/html": [
              "<div>\n",
              "<style scoped>\n",
              "    .dataframe tbody tr th:only-of-type {\n",
              "        vertical-align: middle;\n",
              "    }\n",
              "\n",
              "    .dataframe tbody tr th {\n",
              "        vertical-align: top;\n",
              "    }\n",
              "\n",
              "    .dataframe thead th {\n",
              "        text-align: right;\n",
              "    }\n",
              "</style>\n",
              "<table border=\"1\" class=\"dataframe\">\n",
              "  <thead>\n",
              "    <tr style=\"text-align: right;\">\n",
              "      <th></th>\n",
              "      <th>Actual_values</th>\n",
              "      <th>Predicted_values</th>\n",
              "    </tr>\n",
              "  </thead>\n",
              "  <tbody>\n",
              "    <tr>\n",
              "      <th>19</th>\n",
              "      <td>69</td>\n",
              "      <td>74.847699</td>\n",
              "    </tr>\n",
              "    <tr>\n",
              "      <th>22</th>\n",
              "      <td>35</td>\n",
              "      <td>40.295061</td>\n",
              "    </tr>\n",
              "    <tr>\n",
              "      <th>2</th>\n",
              "      <td>27</td>\n",
              "      <td>34.536288</td>\n",
              "    </tr>\n",
              "    <tr>\n",
              "      <th>17</th>\n",
              "      <td>24</td>\n",
              "      <td>22.058946</td>\n",
              "    </tr>\n",
              "    <tr>\n",
              "      <th>23</th>\n",
              "      <td>76</td>\n",
              "      <td>70.048721</td>\n",
              "    </tr>\n",
              "    <tr>\n",
              "      <th>18</th>\n",
              "      <td>67</td>\n",
              "      <td>62.370357</td>\n",
              "    </tr>\n",
              "    <tr>\n",
              "      <th>0</th>\n",
              "      <td>21</td>\n",
              "      <td>27.817719</td>\n",
              "    </tr>\n",
              "    <tr>\n",
              "      <th>5</th>\n",
              "      <td>20</td>\n",
              "      <td>18.219764</td>\n",
              "    </tr>\n",
              "  </tbody>\n",
              "</table>\n",
              "</div>"
            ],
            "text/plain": [
              "    Actual_values  Predicted_values\n",
              "19             69         74.847699\n",
              "22             35         40.295061\n",
              "2              27         34.536288\n",
              "17             24         22.058946\n",
              "23             76         70.048721\n",
              "18             67         62.370357\n",
              "0              21         27.817719\n",
              "5              20         18.219764"
            ]
          },
          "metadata": {
            "tags": []
          },
          "execution_count": 11
        }
      ]
    },
    {
      "cell_type": "markdown",
      "metadata": {
        "id": "thctJDB_7fMl"
      },
      "source": [
        "Evaluating Model"
      ]
    },
    {
      "cell_type": "code",
      "metadata": {
        "id": "bicAVglq7h3k",
        "colab": {
          "base_uri": "https://localhost:8080/"
        },
        "outputId": "e5ec44e5-385e-4608-9d0d-5728cab79809"
      },
      "source": [
        "from sklearn import metrics\n",
        "print('Mean Absolute Error:', metrics.mean_absolute_error(Y_test, pred))\n",
        "print('Mean Squared Error:', metrics.mean_squared_error(Y_test, pred))\n",
        "print('Root Mean Squared Error:', metrics.mean_squared_error(Y_test, pred)**0.5)\n",
        "print('R2 Score:', metrics.r2_score(Y_test, pred))"
      ],
      "execution_count": 12,
      "outputs": [
        {
          "output_type": "stream",
          "text": [
            "Mean Absolute Error: 4.9748721918004435\n",
            "Mean Squared Error: 28.662301693315563\n",
            "Root Mean Squared Error: 5.353718492161832\n",
            "R2 Score: 0.9431285906565743\n"
          ],
          "name": "stdout"
        }
      ]
    },
    {
      "cell_type": "markdown",
      "metadata": {
        "id": "K2JF7aiA7p2i"
      },
      "source": [
        "Prediction of the score for the student who studies for 9.25 Hours/day."
      ]
    },
    {
      "cell_type": "code",
      "metadata": {
        "id": "_2rhIwdh7vwq",
        "colab": {
          "base_uri": "https://localhost:8080/"
        },
        "outputId": "1417fa78-6809-4cf0-987a-76d1928b3c0f"
      },
      "source": [
        "hours = [[9.25]]\n",
        "own_pred = reg.predict(hours)\n",
        "print(\"Number of hours={}\".format(hours))\n",
        "print(\"Predicted score = {}\".format(own_pred[0]))"
      ],
      "execution_count": 13,
      "outputs": [
        {
          "output_type": "stream",
          "text": [
            "Number of hours=[[9.25]]\n",
            "Predicted score = 92.60391577880367\n"
          ],
          "name": "stdout"
        }
      ]
    },
    {
      "cell_type": "markdown",
      "metadata": {
        "id": "Wnbkrypu732O"
      },
      "source": [
        "RESULT: 92.60391577880367 will be predicted score if a student study for 9.25 hrs in a day."
      ]
    }
  ]
}